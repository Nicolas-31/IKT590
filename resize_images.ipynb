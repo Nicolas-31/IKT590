{
 "cells": [
  {
   "cell_type": "code",
   "execution_count": 1,
   "metadata": {},
   "outputs": [],
   "source": [
    "import os\n",
    "import numpy as np\n",
    "from PIL import Image\n",
    "from IPython.display import display, clear_output"
   ]
  },
  {
   "cell_type": "code",
   "execution_count": null,
   "metadata": {},
   "outputs": [
    {
     "data": {
      "text/plain": [
       "'validation\\\\2_211.jpg'"
      ]
     },
     "metadata": {},
     "output_type": "display_data"
    }
   ],
   "source": [
    "data_dir = \"validation\" # gives the path of folder you want to resize \n",
    "files = os.listdir(data_dir)\n",
    "save_dir = data_dir + \"_216\"\n",
    "if not os.path.exists(save_dir):\n",
    "    os.mkdir(save_dir)\n",
    "for file in files: # number of files to go through\n",
    "    im = Image.open(os.path.join(data_dir, file))\n",
    "    w, h = im.size\n",
    "    \n",
    "    if w > 255 and h > 255:\n",
    "        \n",
    "        # crop\n",
    "        if w > h:\n",
    "            w1 = (w - h)/2\n",
    "            im = im.crop((w1, 0, w1 + h, h))\n",
    "        elif h > w:\n",
    "            h1 = (h - w)/2\n",
    "            im = im.crop((0, h1, w, h1 + w))\n",
    "\n",
    "        display(os.path.join(data_dir, file))\n",
    "        im = im.resize((512,512), Image.ANTIALIAS)\n",
    "        clear_output(wait=True)\n",
    "        file_new = file.split('.jpg')[0] + '_s.jpg'\n",
    "        im.save(os.path.join(save_dir, file_new), \"JPEG\")"
   ]
  },
  {
   "cell_type": "code",
   "execution_count": null,
   "metadata": {},
   "outputs": [],
   "source": []
  }
 ],
 "metadata": {
  "kernelspec": {
   "display_name": "Python 3",
   "language": "python",
   "name": "python3"
  },
  "language_info": {
   "codemirror_mode": {
    "name": "ipython",
    "version": 3
   },
   "file_extension": ".py",
   "mimetype": "text/x-python",
   "name": "python",
   "nbconvert_exporter": "python",
   "pygments_lexer": "ipython3",
   "version": "3.7.1"
  }
 },
 "nbformat": 4,
 "nbformat_minor": 2
}
