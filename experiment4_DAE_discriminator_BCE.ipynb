{
 "cells": [
  {
   "cell_type": "code",
   "execution_count": null,
   "metadata": {},
   "outputs": [],
   "source": [
    "import os\n",
    "import random\n",
    "import numpy as np\n",
    "import imageio\n",
    "\n",
    "from keras.layers import Input, Dense, Conv2D, BatchNormalization, MaxPooling2D, UpSampling2D, Flatten\n",
    "from keras.layers import BatchNormalization, Activation, Conv2D, Conv2DTranspose, Dropout, Reshape, Concatenate\n",
    "from keras.layers.advanced_activations import LeakyReLU\n",
    "from keras.models import Model\n",
    "from keras.optimizers import Adam\n",
    "from keras.callbacks import EarlyStopping, ModelCheckpoint\n",
    "from keras.preprocessing import image\n",
    "import keras.backend as K\n",
    "import h5py\n",
    "\n",
    "import matplotlib.pyplot as plt\n",
    "%matplotlib inline  "
   ]
  },
  {
   "cell_type": "code",
   "execution_count": null,
   "metadata": {},
   "outputs": [],
   "source": [
    "## Load dataset"
   ]
  },
  {
   "cell_type": "code",
   "execution_count": null,
   "metadata": {},
   "outputs": [],
   "source": [
    "def load_dataset(path):\n",
    "    files = os.listdir(path)\n",
    "    x = []\n",
    "    for file in files: # number of files to go through\n",
    "        im = imageio.imread(os.path.join(path, file))\n",
    "        x.append(im)\n",
    "    x = np.asarray(x)\n",
    "    return x"
   ]
  },
  {
   "cell_type": "code",
   "execution_count": null,
   "metadata": {},
   "outputs": [],
   "source": [
    "path_train_orig = './Food11_256/training_256'\n",
    "path_val_orig = './Food11_256/validation_256'\n",
    "\n",
    "x_train = load_dataset(path_train_orig)\n",
    "x_val = load_dataset(path_val_orig)\n",
    "\n",
    "print('original dataset:', np.shape(x_train), np.shape(x_val))"
   ]
  },
  {
   "cell_type": "code",
   "execution_count": null,
   "metadata": {},
   "outputs": [],
   "source": [
    "path_train_date = './Food11_256/training_256_datestamp'\n",
    "path_val_date = './Food11_256/validation_256_datestamp'\n",
    "\n",
    "x_train_date = load_dataset(path_train_date)\n",
    "x_val_date = load_dataset(path_val_date)\n",
    "\n",
    "print('datestamped dataset:', np.shape(x_train_date), np.shape(x_val_date))"
   ]
  },
  {
   "cell_type": "code",
   "execution_count": null,
   "metadata": {},
   "outputs": [],
   "source": [
    "x_train = x_train.astype('float32') / 255.0\n",
    "x_val  = x_val.astype('float32') / 255.0\n",
    "x_train_date = x_train_date.astype('float32') / 255.0\n",
    "x_val_date  = x_val_date.astype('float32') / 255.0"
   ]
  },
  {
   "cell_type": "code",
   "execution_count": null,
   "metadata": {},
   "outputs": [],
   "source": [
    "## Convolutional autoencoder with discriminator"
   ]
  },
  {
   "cell_type": "code",
   "execution_count": null,
   "metadata": {},
   "outputs": [],
   "source": [
    "def get_autoencoder(input_layer):\n",
    "\n",
    "    x = Conv2D(3, (3, 3), padding='same')(input_layer)\n",
    "    x = BatchNormalization()(x)\n",
    "    x = Activation('relu')(x)\n",
    "    x = MaxPooling2D((2, 2), padding='same')(x)\n",
    "    x = Conv2D(48, (3, 3), padding='same')(x)\n",
    "    x = BatchNormalization()(x)\n",
    "    x = Activation('relu')(x)\n",
    "    encoded = MaxPooling2D((2, 2), padding='same')(x)\n",
    "\n",
    "    x = Conv2D(48, (3, 3), padding='same')(encoded)\n",
    "    x = BatchNormalization()(x)\n",
    "    x = Activation('relu')(x)\n",
    "    x = UpSampling2D((2, 2))(x)\n",
    "    x = Conv2D(96, (3, 3), padding='same')(x)\n",
    "    x = BatchNormalization()(x)\n",
    "    x = Activation('relu')(x)\n",
    "    x = UpSampling2D((2, 2))(x)\n",
    "    x = Conv2D(3, (3, 3), padding='same')(x)\n",
    "    x = BatchNormalization()(x)\n",
    "    decoded = Activation('sigmoid')(x)\n",
    "\n",
    "    model = Model(input_layer, decoded)\n",
    "    \n",
    "    #model.summary()\n",
    "\n",
    "    return model"
   ]
  },
  {
   "cell_type": "code",
   "execution_count": null,
   "metadata": {},
   "outputs": [],
   "source": [
    "def get_discriminator(input_layer):\n",
    "\n",
    "    hid = Conv2D(16, kernel_size=3, strides=1, padding='same')(input_layer)\n",
    "    hid = BatchNormalization(momentum=0.9)(hid)\n",
    "    hid = LeakyReLU(alpha=0.1)(hid)\n",
    "\n",
    "    hid = Conv2D(16, kernel_size=2, strides=2, padding='same')(hid)\n",
    "    hid = BatchNormalization(momentum=0.9)(hid)\n",
    "    hid = LeakyReLU(alpha=0.1)(hid)\n",
    "\n",
    "    hid = Conv2D(16, kernel_size=2, strides=2, padding='same')(hid)\n",
    "    hid = BatchNormalization(momentum=0.9)(hid)\n",
    "    hid = LeakyReLU(alpha=0.1)(hid)\n",
    "\n",
    "    hid = Conv2D(16, kernel_size=2, strides=2, padding='same')(hid)\n",
    "    hid = BatchNormalization(momentum=0.9)(hid)\n",
    "    hid = LeakyReLU(alpha=0.1)(hid)\n",
    "\n",
    "    hid = Conv2D(16, kernel_size=2, strides=2, padding='same')(hid)\n",
    "    hid = BatchNormalization(momentum=0.9)(hid)\n",
    "    hid = LeakyReLU(alpha=0.1)(hid)\n",
    "    \n",
    "    hid = Flatten()(hid)\n",
    "    hid = Dropout(0.4)(hid)\n",
    "    classifier = Dense(1, activation='sigmoid')(hid)\n",
    "\n",
    "    model = Model(input_layer, classifier)\n",
    "\n",
    "    model.summary()\n",
    "\n",
    "    return model"
   ]
  },
  {
   "cell_type": "code",
   "execution_count": null,
   "metadata": {},
   "outputs": [],
   "source": [
    "in_shape = (x_train.shape[1:])\n",
    "input_img = Input(shape=in_shape)\n",
    "\n",
    "discriminator = get_discriminator(input_img)\n",
    "discriminator.compile(optimizer=Adam(0.0002, 0.5), loss='binary_crossentropy', metrics=['accuracy'])\n",
    "discriminator.trainable = False\n",
    "\n",
    "autoencoder = get_autoencoder(input_img)\n",
    "x = autoencoder(input_img)\n",
    "output_img = discriminator(autoencoder(input_img))\n",
    "gan = Model(input_img, output_img)\n",
    "\n",
    "gan.summary()\n",
    "gan.compile(optimizer=Adam(0.0002, 0.5), loss='binary_crossentropy')"
   ]
  },
  {
   "cell_type": "code",
   "execution_count": null,
   "metadata": {},
   "outputs": [],
   "source": [
    "x_training = np.concatenate((x_train, x_val))\n",
    "x_training_date = np.concatenate((x_train_date, x_val_date))"
   ]
  },
  {
   "cell_type": "code",
   "execution_count": null,
   "metadata": {},
   "outputs": [],
   "source": [
    "epochs = 100\n",
    "batch_size = 8\n",
    "num_batches = int(x_training.shape[0]/batch_size)\n",
    "\n",
    "for epoch in range(epochs):\n",
    "\n",
    "    cum_d_loss = 0.\n",
    "    cum_g_loss = 0.\n",
    "\n",
    "    for batch_idx in range(num_batches): #num_batches\n",
    "        images = x_training[batch_idx*batch_size : (batch_idx+1)*batch_size]\n",
    "        images_date = x_training_date[batch_idx*batch_size : (batch_idx+1)*batch_size]\n",
    "        generated_images = autoencoder.predict(images_date)\n",
    "        #show_samples(images_date,generated_images, 8)\n",
    "\n",
    "        # real data\n",
    "        true_labels = np.zeros((batch_size, 1)) + np.random.uniform(low=0.0, high=0.1, size=(batch_size, 1))\n",
    "        d_loss_true = discriminator.train_on_batch(images, true_labels)\n",
    "\n",
    "        # generated data\n",
    "        ae_labels = np.ones((batch_size, 1)) - np.random.uniform(low=0.0, high=0.1, size=(batch_size, 1))\n",
    "        d_loss_ae = discriminator.train_on_batch(generated_images, ae_labels)\n",
    "\n",
    "        d_loss = 0.5 * np.add(d_loss_true, d_loss_ae)\n",
    "        cum_d_loss += d_loss\n",
    "        \n",
    "        # Train generator\n",
    "        g_loss = gan.train_on_batch(images_date, np.zeros((batch_size, 1)))\n",
    "        cum_g_loss += g_loss\n",
    "\n",
    "    print('  Epoch: {}, Generator Loss: {}, Discriminator Loss: {}'.format(epoch+1, cum_g_loss/num_batches, cum_d_loss/num_batches))"
   ]
  },
  {
   "cell_type": "code",
   "execution_count": null,
   "metadata": {},
   "outputs": [],
   "source": [
    "## Show original and reconstructed image"
   ]
  },
  {
   "cell_type": "code",
   "execution_count": null,
   "metadata": {},
   "outputs": [],
   "source": [
    "path_test = './Food11_256/evaluation_256_datestamp'\n",
    "x_test = load_dataset(path_test)\n",
    "x_test = x_test.astype('float32') / 255.0\n",
    "print(np.shape(x_test))"
   ]
  },
  {
   "cell_type": "code",
   "execution_count": null,
   "metadata": {},
   "outputs": [],
   "source": [
    "# show original image and reconstructed image\n",
    "def show_samples(orig, dec, num=9):\n",
    "    n = num\n",
    "    plt.figure(figsize=(23, 5))\n",
    "\n",
    "    for i in range(n):\n",
    "        # display original\n",
    "        ax = plt.subplot(2, n, i+1)\n",
    "        plt.imshow(orig[i].reshape(in_shape))\n",
    "        ax.get_xaxis().set_visible(False)\n",
    "        ax.get_yaxis().set_visible(False)\n",
    "\n",
    "        # display reconstruction\n",
    "        ax = plt.subplot(2, n, i +1 + n)\n",
    "        plt.imshow(dec[i].reshape(in_shape))\n",
    "        ax.get_xaxis().set_visible(False)\n",
    "        ax.get_yaxis().set_visible(False)\n",
    "    plt.show()"
   ]
  },
  {
   "cell_type": "code",
   "execution_count": null,
   "metadata": {},
   "outputs": [],
   "source": [
    "def random_subset( iterator, K ):\n",
    "    result = []\n",
    "    N = 0\n",
    "\n",
    "    for item in iterator:\n",
    "        N += 1\n",
    "        if len( result ) < K:\n",
    "            result.append( item )\n",
    "        else:\n",
    "            s = int(random.random() * N)\n",
    "            if s < K:\n",
    "                result[ s ] = item\n",
    "\n",
    "    return result"
   ]
  },
  {
   "cell_type": "code",
   "execution_count": null,
   "metadata": {},
   "outputs": [],
   "source": [
    "n = 9\n",
    "samples = np.asarray(random_subset(x_test, n))\n",
    "predictions = autoencoder.predict(samples)\n",
    "show_samples(samples,predictions,n)"
   ]
  },
  {
   "cell_type": "code",
   "execution_count": null,
   "metadata": {},
   "outputs": [],
   "source": []
  },
  {
   "cell_type": "code",
   "execution_count": null,
   "metadata": {},
   "outputs": [],
   "source": []
  },
  {
   "cell_type": "code",
   "execution_count": null,
   "metadata": {},
   "outputs": [],
   "source": []
  },
  {
   "cell_type": "code",
   "execution_count": null,
   "metadata": {},
   "outputs": [],
   "source": []
  },
  {
   "cell_type": "code",
   "execution_count": null,
   "metadata": {},
   "outputs": [],
   "source": []
  },
  {
   "cell_type": "code",
   "execution_count": null,
   "metadata": {},
   "outputs": [],
   "source": []
  },
  {
   "cell_type": "code",
   "execution_count": null,
   "metadata": {},
   "outputs": [],
   "source": []
  },
  {
   "cell_type": "code",
   "execution_count": null,
   "metadata": {},
   "outputs": [],
   "source": []
  }
 ],
 "metadata": {
  "kernelspec": {
   "display_name": "Python 3",
   "language": "python",
   "name": "python3"
  },
  "language_info": {
   "codemirror_mode": {
    "name": "ipython",
    "version": 3
   },
   "file_extension": ".py",
   "mimetype": "text/x-python",
   "name": "python",
   "nbconvert_exporter": "python",
   "pygments_lexer": "ipython3",
   "version": "3.6.6"
  }
 },
 "nbformat": 4,
 "nbformat_minor": 2
}
