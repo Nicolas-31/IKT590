{
 "cells": [
  {
   "cell_type": "code",
   "execution_count": null,
   "metadata": {},
   "outputs": [],
   "source": [
    "import os\n",
    "import random\n",
    "import numpy as np\n",
    "import imageio\n",
    "from keras.layers import Input, Dense, Conv2D, BatchNormalization, MaxPooling2D, UpSampling2D, Flatten, Activation\n",
    "from keras.callbacks import EarlyStopping, ModelCheckpoint\n",
    "from keras.preprocessing.image import ImageDataGenerator\n",
    "from keras.models import Model, Sequential\n",
    "import matplotlib.pyplot as plt\n",
    "from keras.callbacks import TensorBoard\n",
    "%matplotlib inline  "
   ]
  },
  {
   "cell_type": "code",
   "execution_count": null,
   "metadata": {},
   "outputs": [],
   "source": [
    "## Load dataset"
   ]
  },
  {
   "cell_type": "code",
   "execution_count": null,
   "metadata": {},
   "outputs": [],
   "source": [
    "def load_dataset(path):\n",
    "    files = os.listdir(path)\n",
    "    x = []\n",
    "    for file in files: # number of files to go through\n",
    "        im = imageio.imread(os.path.join(path, file))\n",
    "        x.append(im)\n",
    "    x = np.asarray(x)\n",
    "    return x"
   ]
  },
  {
   "cell_type": "code",
   "execution_count": null,
   "metadata": {},
   "outputs": [],
   "source": [
    "path_train_orig = './Food11_256/training_256'\n",
    "path_val_orig = './Food11_256/validation_256'\n",
    "\n",
    "x_train = load_dataset(path_train_orig)\n",
    "x_val = load_dataset(path_val_orig)\n",
    "\n",
    "print('original dataset:', np.shape(x_train), np.shape(x_val))"
   ]
  },
  {
   "cell_type": "code",
   "execution_count": null,
   "metadata": {},
   "outputs": [],
   "source": [
    "path_train_date = './Food11_256/training_256_datestamp'\n",
    "path_val_date = './Food11_256/validation_256_datestamp'\n",
    "\n",
    "x_train_date = load_dataset(path_train_date)\n",
    "x_val_date = load_dataset(path_val_date)\n",
    "\n",
    "print('datestamped dataset:', np.shape(x_train_date), np.shape(x_val_date))"
   ]
  },
  {
   "cell_type": "code",
   "execution_count": null,
   "metadata": {},
   "outputs": [],
   "source": [
    "x_train = x_train.astype('float32') / 255.0\n",
    "x_val  = x_val.astype('float32') / 255.0\n",
    "x_train_date = x_train_date.astype('float32') / 255.0\n",
    "x_val_date  = x_val_date.astype('float32') / 255.0"
   ]
  },
  {
   "cell_type": "code",
   "execution_count": null,
   "metadata": {},
   "outputs": [],
   "source": [
    "## Convolutional AutoEncoder"
   ]
  },
  {
   "cell_type": "code",
   "execution_count": null,
   "metadata": {},
   "outputs": [],
   "source": [
    "epochs = 100\n",
    "batch_size = 16\n",
    "in_shape = (x_train.shape[1:])"
   ]
  },
  {
   "cell_type": "code",
   "execution_count": null,
   "metadata": {},
   "outputs": [],
   "source": [
    "input_img = Input(shape=(in_shape)) # 1st layer \n",
    "x = Conv2D(96, (3, 3), padding='same')(input_img)  #2nd layer \n",
    "x = BatchNormalization()(x)\n",
    "x = Activation('relu')(x)\n",
    "x = MaxPooling2D((2, 2), padding='same')(x)  # 3rd layer \n",
    "x = Conv2D(48, (3, 3), padding='same')(x)   #4th layer\n",
    "x = BatchNormalization()(x)\n",
    "x = Activation('relu')(x)\n",
    "encoded = MaxPooling2D((2, 2), padding='same')(x)\n",
    "\n",
    "x = Conv2D(48, (3, 3), padding='same')(encoded) # 7th layer\n",
    "x = BatchNormalization()(x)\n",
    "x = Activation('relu')(x)\n",
    "x = UpSampling2D((2, 2))(x)      # 8th layer \n",
    "x = Conv2D(96, (3, 3), padding='same')(x)  # 9th layer \n",
    "x = BatchNormalization()(x)\n",
    "x = Activation('relu')(x)\n",
    "x = UpSampling2D((2, 2))(x) # 10th layer \n",
    "x = Conv2D(3, (3, 3), padding='same')(x)  # 13rd \n",
    "x = BatchNormalization()(x)\n",
    "decoded = Activation('sigmoid')(x)"
   ]
  },
  {
   "cell_type": "code",
   "execution_count": null,
   "metadata": {},
   "outputs": [],
   "source": [
    "model = Model(input_img, decoded)\n",
    "model.compile(optimizer='adam', loss='binary_crossentropy')\n",
    "model.summary()"
   ]
  },
  {
   "cell_type": "code",
   "execution_count": null,
   "metadata": {},
   "outputs": [],
   "source": [
    "history = model.fit(x_train_date, x_train,\n",
    "                    batch_size=batch_size,\n",
    "                    epochs=epochs,\n",
    "                    verbose=1,\n",
    "                    validation_data=(x_val_date, x_val),\n",
    "                    #callbacks = [EarlyStopping(monitor='val_loss', patience=4, verbose=1, mode='auto')],\n",
    "                    #callbacks=[TensorBoard(log_dir='date_stamp', histogram_freq=0, write_grads=False)],\n",
    "                    shuffle=True\n",
    "                   )"
   ]
  },
  {
   "cell_type": "code",
   "execution_count": null,
   "metadata": {},
   "outputs": [],
   "source": [
    "plt.plot(history.history['loss'])\n",
    "plt.plot(history.history['val_loss'])\n",
    "plt.title('model loss')\n",
    "plt.ylabel('loss')\n",
    "plt.xlabel('epoch')\n",
    "plt.legend(['train', 'test'], loc='upper left')\n",
    "plt.show()"
   ]
  },
  {
   "cell_type": "code",
   "execution_count": null,
   "metadata": {},
   "outputs": [],
   "source": [
    "## Visualize original image and reconstructed image"
   ]
  },
  {
   "cell_type": "code",
   "execution_count": null,
   "metadata": {},
   "outputs": [],
   "source": [
    "# definition to show original image and reconstructed image\n",
    "def showOrigDec(orig, dec, num=9):\n",
    "    n = num\n",
    "    plt.figure(figsize=(23, 5))\n",
    "\n",
    "    for i in range(n):\n",
    "        # display original\n",
    "        ax = plt.subplot(2, n, i+1)\n",
    "        plt.imshow(orig[i].reshape(in_shape))\n",
    "        ax.get_xaxis().set_visible(False)\n",
    "        ax.get_yaxis().set_visible(False)\n",
    "\n",
    "        # display reconstruction\n",
    "        ax = plt.subplot(2, n, i +1 + n)\n",
    "        plt.imshow(dec[i].reshape(in_shape))\n",
    "        ax.get_xaxis().set_visible(False)  \n",
    "        ax.get_yaxis().set_visible(False)\n",
    "    plt.show()"
   ]
  },
  {
   "cell_type": "code",
   "execution_count": null,
   "metadata": {},
   "outputs": [],
   "source": [
    "def random_subset(iterator, K):\n",
    "    result = []\n",
    "    N = 0\n",
    "\n",
    "    for item in iterator:\n",
    "        N += 1\n",
    "        if len(result) < K:\n",
    "            result.append(item)\n",
    "        else:\n",
    "            s = int(random.random() * N)\n",
    "            if s < K:\n",
    "                result[ s ] = item\n",
    "\n",
    "    return result"
   ]
  },
  {
   "cell_type": "code",
   "execution_count": null,
   "metadata": {},
   "outputs": [],
   "source": [
    "import math\n",
    "\n",
    "def psnr(img1, img2):\n",
    "    mse = np.mean( (img1 - img2) ** 2 )\n",
    "    if mse == 0:\n",
    "        return 100\n",
    "    PIXEL_MAX = 255.0\n",
    "    return 20 * math.log10(PIXEL_MAX / math.sqrt(mse))"
   ]
  },
  {
   "cell_type": "code",
   "execution_count": null,
   "metadata": {},
   "outputs": [],
   "source": [
    "path_test_orig = './Food11_256/evaluation_256'\n",
    "x_test = load_dataset(path_test_orig)\n",
    "x_test  = x_test.astype('float32') / 255.0\n",
    "\n",
    "path_test_date = './Food11_256/evaluation_256_datestamp'\n",
    "x_test_date = load_dataset(path_test_date)\n",
    "x_test_date  = x_test_date.astype('float32') / 255.0"
   ]
  },
  {
   "cell_type": "code",
   "execution_count": null,
   "metadata": {},
   "outputs": [],
   "source": [
    "d_sum = 0\n",
    "for i in range(len(x_test)):\n",
    "    dateimg = np.asarray([x_test_date[i]])\n",
    "    nodateimg = np.asarray([x_test[i]])\n",
    "    predictions = model.predict(dateimg)\n",
    "    d=psnr(predictions,nodateimg)\n",
    "    d_sum+=d\n",
    "#         showOrigDec(nodateimg,predictions,1)\n",
    "#         print(\"psnr:\",d)\n",
    "print(d_sum/len(x_test))"
   ]
  },
  {
   "cell_type": "code",
   "execution_count": null,
   "metadata": {},
   "outputs": [],
   "source": [
    "n = 9\n",
    "samples = np.asarray(random_subset(x_test_date, n))\n",
    "predictions = model.predict(samples)\n",
    "showOrigDec(samples,predictions,n)"
   ]
  },
  {
   "cell_type": "code",
   "execution_count": null,
   "metadata": {},
   "outputs": [],
   "source": []
  }
 ],
 "metadata": {
  "kernelspec": {
   "display_name": "Python 3",
   "language": "python",
   "name": "python3"
  },
  "language_info": {
   "codemirror_mode": {
    "name": "ipython",
    "version": 3
   },
   "file_extension": ".py",
   "mimetype": "text/x-python",
   "name": "python",
   "nbconvert_exporter": "python",
   "pygments_lexer": "ipython3",
   "version": "3.6.8"
  }
 },
 "nbformat": 4,
 "nbformat_minor": 2
}
